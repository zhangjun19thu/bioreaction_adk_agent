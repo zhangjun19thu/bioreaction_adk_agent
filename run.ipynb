{
 "cells": [
  {
   "cell_type": "code",
   "execution_count": 16,
   "metadata": {},
   "outputs": [
    {
     "name": "stdout",
     "output_type": "stream",
     "text": [
      "正在加载数据库到内存...\n",
      "  - 已加载数据表 '1_reactions_core' (共 3485 行)\n",
      "  - 已加载数据表 '2_enzymes' (共 3485 行)\n",
      "  - 已加载数据表 '3_experimental_conditions' (共 3485 行)\n",
      "  - 已加载数据表 '4_activity_performance' (共 3485 行)\n",
      "  - 已加载数据表 '5_reaction_participants' (共 16146 行)\n",
      "  - 已加载数据表 '6_kinetic_parameters' (共 4756 行)\n",
      "  - 已加载数据表 '7_mutants_characterized' (共 2388 行)\n",
      "  - 已加载数据表 '8_inhibitors_main' (共 2466 行)\n",
      "  - 已加载数据表 '9_inhibition_params' (共 1838 行)\n",
      "  - 已加载数据表 '10_auxiliary_factors' (共 2740 行)\n",
      "数据库加载完成。\n"
     ]
    }
   ],
   "source": [
    "import pandas as pd\n",
    "import os\n",
    "import glob\n",
    "from config import DATABASE_DIR, DATABASE_CSV_FILES, validate_config\n",
    "\n",
    "# 全局变量，用于存储加载后的数据库DataFrames\n",
    "DB = {} \n",
    "\n",
    "def load_database():\n",
    "    \"\"\"\n",
    "    加载数据库目录中的所有CSV文件到全局的DB字典中。\n",
    "    使用config.py中的配置。\n",
    "    \"\"\"\n",
    "    print(\"正在加载数据库到内存...\")\n",
    "    \n",
    "    # 验证配置\n",
    "    config_errors = validate_config()\n",
    "    if config_errors:\n",
    "        print(\"配置错误:\")\n",
    "        for error in config_errors:\n",
    "            print(f\"  - {error}\")\n",
    "        return\n",
    "    \n",
    "    if not DATABASE_DIR.exists():\n",
    "        print(f\"致命错误：数据库目录未找到于 '{DATABASE_DIR}'。Agent无法启动。\")\n",
    "        return\n",
    "\n",
    "    # 使用配置中的CSV文件列表\n",
    "    for csv_file in DATABASE_CSV_FILES:\n",
    "        file_path = DATABASE_DIR / csv_file\n",
    "        if not file_path.exists():\n",
    "            print(f\"警告：数据表文件 '{csv_file}' 不存在于 '{DATABASE_DIR}'\")\n",
    "            continue\n",
    "            \n",
    "        try:\n",
    "            # 使用文件名（不含扩展名）作为字典的键\n",
    "            key = csv_file.split('.')[0]\n",
    "            DB[key] = pd.read_csv(file_path)\n",
    "            print(f\"  - 已加载数据表 '{key}' (共 {len(DB[key])} 行)\")\n",
    "        except Exception as e:\n",
    "            print(f\"  - 加载数据表 '{csv_file}' 失败: {e}\")\n",
    "    \n",
    "    print(\"数据库加载完成。\")\n",
    "\n",
    "# 当此模块被首次导入时，自动执行加载数据库的操作\n",
    "load_database()"
   ]
  },
  {
   "cell_type": "code",
   "execution_count": 17,
   "metadata": {},
   "outputs": [],
   "source": [
    "from google.adk.tools import FunctionTool\n",
    "import pandas as pd\n",
    "import numpy as np\n",
    "from typing import List, Dict, Optional, Any\n",
    "from config import QUERY_CONFIG, ANALYSIS_CONFIG\n",
    "import re"
   ]
  },
  {
   "cell_type": "code",
   "execution_count": 34,
   "metadata": {},
   "outputs": [],
   "source": [
    "def _enzyme_name_or_synonym_match(df, enzyme_name):\n",
    "    \"\"\"\n",
    "    支持enzyme_name和enzyme_synonyms（|分隔）模糊匹配\n",
    "    \"\"\"\n",
    "    if 'enzyme_synonyms' not in df.columns:\n",
    "        return df['enzyme_name'].str.contains(enzyme_name, case=False, na=False)\n",
    "    # 先对synonyms做分割，生成布尔Series\n",
    "    def match_synonyms(synonyms):\n",
    "        if pd.isnull(synonyms):\n",
    "            return False\n",
    "        for syn in str(synonyms).split('|'):\n",
    "            if enzyme_name.lower() in syn.lower():\n",
    "                return True\n",
    "        return False\n",
    "    return (\n",
    "        df['enzyme_name'].str.contains(enzyme_name, case=False, na=False) |\n",
    "        df['enzyme_synonyms'].apply(match_synonyms)\n",
    "    )\n",
    "\n",
    "def find_reactions_by_enzyme(\n",
    "    enzyme_name: str,\n",
    "    organism: str,\n",
    "    max_results: int\n",
    ") -> str:\n",
    "    \"\"\"\n",
    "    根据酶名称和物种查找相关反应。\n",
    "    \n",
    "    :param enzyme_name: str\n",
    "    :param organism: str\n",
    "    :param max_results: int\n",
    "    \"\"\"\n",
    "    if not DB: return \"数据库未加载。\"\n",
    "    \n",
    "    enzymes_df = DB.get('2_enzymes', pd.DataFrame())\n",
    "    core_df = DB.get('1_reactions_core', pd.DataFrame())\n",
    "    \n",
    "    if enzymes_df.empty or core_df.empty:\n",
    "        return \"核心数据表未加载。\"\n",
    "    \n",
    "    # 构建查询条件\n",
    "    query_conditions = []\n",
    "    if enzyme_name:\n",
    "        query_conditions.append(_enzyme_name_or_synonym_match(enzymes_df, enzyme_name))\n",
    "    if organism:\n",
    "        query_conditions.append(enzymes_df['organism'].str.contains(organism, case=False, na=False))\n",
    "\n",
    "    if not query_conditions:\n",
    "        return \"请提供酶名称或物种信息。\"\n",
    "    \n",
    "    # 应用查询条件\n",
    "    filtered_enzymes = enzymes_df[pd.concat(query_conditions, axis=1).all(axis=1)]\n",
    "    \n",
    "    if filtered_enzymes.empty:\n",
    "        return f\"未找到匹配酶 '{enzyme_name}' 和物种 '{organism}' 的反应。\"\n",
    "    \n",
    "    # 合并反应信息\n",
    "    merged_df = pd.merge(filtered_enzymes, core_df, on=['literature_id', 'reaction_id'])\n",
    "    \n",
    "    # 限制结果数量\n",
    "    max_results = min(max_results, QUERY_CONFIG[\"max_results\"])\n",
    "    result_df = merged_df.head(max_results)\n",
    "    \n",
    "    # 格式化输出\n",
    "    result = f\"# 酶相关反应查询结果\\n\\n\"\n",
    "    result += f\"**查询条件**: 酶={enzyme_name}, 物种={organism}\\n\"\n",
    "    result += f\"**找到反应数**: {len(result_df)} (共{len(merged_df)}个)\\n\\n\"\n",
    "    \n",
    "    for _, row in result_df.iterrows():\n",
    "        result += f\"## {row['literature_id']}:{row['reaction_id']}\\n\"\n",
    "        result += f\"- **酶**: {row['enzyme_name']}\\n\"\n",
    "        result += f\"- **物种**: {row['organism']}\\n\"\n",
    "        result += f\"- **反应**: {row['reaction_equation']}\\n\"\n",
    "        result += f\"- **是否可逆**: {row['reaction_type_reversible']}\\n\\n\"\n",
    "        print(row['enzyme_synonyms'])\n",
    "    return result"
   ]
  },
  {
   "cell_type": "code",
   "execution_count": 36,
   "metadata": {},
   "outputs": [
    {
     "name": "stdout",
     "output_type": "stream",
     "text": [
      "AtSPS3|AtPPPS\n"
     ]
    },
    {
     "data": {
      "text/plain": [
       "'# 酶相关反应查询结果\\n\\n**查询条件**: 酶=AtPPPS, 物种=Arabidopsis thaliana\\n**找到反应数**: 1 (共1个)\\n\\n## PMID32034864:reaction_3\\n- **酶**: Solanesyl diphosphate synthase 3\\n- **物种**: Arabidopsis thaliana\\n- **反应**: Geranylgeranyl diphosphate + 5 Isopentenyl diphosphate -> Solanesyl diphosphate + 5 Pyrophosphate\\n- **是否可逆**: Not specified\\n\\n'"
      ]
     },
     "execution_count": 36,
     "metadata": {},
     "output_type": "execute_result"
    }
   ],
   "source": [
    "find_reactions_by_enzyme('AtPPPS',\"Arabidopsis thaliana\",5)"
   ]
  },
  {
   "cell_type": "code",
   "execution_count": 32,
   "metadata": {},
   "outputs": [],
   "source": [
    "def smart_search_reactions(\n",
    "    search_query: str,\n",
    "    search_fields: List[str],\n",
    "    max_results: int\n",
    ") -> str:\n",
    "    \"\"\"\n",
    "    智能搜索反应，支持多字段模糊匹配。\n",
    "    \n",
    "    :param search_query: str\n",
    "    :param search_fields: List[str]\n",
    "    :param max_results: int\n",
    "    \"\"\"\n",
    "    if not DB: return \"数据库未加载。\"\n",
    "    \n",
    "    core_df = DB.get('1_reactions_core', pd.DataFrame())\n",
    "    enzymes_df = DB.get('2_enzymes', pd.DataFrame())\n",
    "    \n",
    "    if core_df.empty or enzymes_df.empty:\n",
    "        return \"核心数据表未加载。\"\n",
    "    \n",
    "    # 合并数据\n",
    "    merged_df = pd.merge(core_df, enzymes_df, on=['literature_id', 'reaction_id'])\n",
    "    \n",
    "    # 构建搜索条件\n",
    "    search_conditions = []\n",
    "    for field in search_fields:\n",
    "        if field in merged_df.columns:\n",
    "            if field == \"enzyme_name\" or \"enzyme_synonyms\":\n",
    "                search_conditions.append(_enzyme_name_or_synonym_match(merged_df, search_query))\n",
    "            else:\n",
    "                search_conditions.append(merged_df[field].str.contains(search_query, case=False, na=False))\n",
    "    \n",
    "    if not search_conditions:\n",
    "        return \"未找到有效的搜索字段。\"\n",
    "    \n",
    "    # 应用搜索条件（OR逻辑）\n",
    "    combined_condition = pd.concat(search_conditions, axis=1).any(axis=1)\n",
    "    filtered_df = merged_df[combined_condition]\n",
    "    \n",
    "    if filtered_df.empty:\n",
    "        return f\"未找到匹配查询 '{search_query}' 的反应。\"\n",
    "    \n",
    "    # 限制结果数量\n",
    "    max_results = min(max_results, QUERY_CONFIG[\"max_results\"])\n",
    "    result_df = filtered_df.head(max_results)\n",
    "    \n",
    "    # 格式化输出\n",
    "    result = f\"# 智能搜索结果\\n\\n\"\n",
    "    result += f\"**搜索查询**: {search_query}\\n\"\n",
    "    result += f\"**搜索字段**: {', '.join(search_fields)}\\n\"\n",
    "    result += f\"**找到反应数**: {len(result_df)} (共{len(filtered_df)}个)\\n\\n\"\n",
    "    \n",
    "    for _, row in result_df.iterrows():\n",
    "        result += f\"## {row['literature_id']}:{row['reaction_id']}\\n\"\n",
    "        result += f\"- **酶**: {row['enzyme_name']}\\n\"\n",
    "        result += f\"- **物种**: {row['organism']}\\n\"\n",
    "        result += f\"- **反应**: {row['reaction_equation']}\\n\"\n",
    "        result += f\"- **反应是否可逆**: {row['reaction_type_reversible']}\\n\\n\"\n",
    "        result += \"\\n\"\n",
    "    return result"
   ]
  },
  {
   "cell_type": "code",
   "execution_count": 33,
   "metadata": {},
   "outputs": [
    {
     "data": {
      "text/plain": [
       "'# 智能搜索结果\\n\\n**搜索查询**: AtPPPS\\n**搜索字段**: enzyme_name\\n**找到反应数**: 1 (共1个)\\n\\n## PMID32034864:reaction_3\\n- **酶**: Solanesyl diphosphate synthase 3\\n- **物种**: Arabidopsis thaliana\\n- **反应**: Geranylgeranyl diphosphate + 5 Isopentenyl diphosphate -> Solanesyl diphosphate + 5 Pyrophosphate\\n- **反应是否可逆**: Not specified\\n\\n- **温度**: N/A°C\\n- **pH**: N/A\\n- **pH补充说明**: N/A\\n- **实验类型**: N/A\\n- **实验细节**: N/A\\n- **缓冲液/溶剂**: N/A\\n- **表达宿主**: N/A\\n- **表达载体**: N/A\\n- **诱导条件**: N/A\\n\\n'"
      ]
     },
     "execution_count": 33,
     "metadata": {},
     "output_type": "execute_result"
    }
   ],
   "source": [
    "smart_search_reactions(\"AtPPPS\",[\"enzyme_name\"],5)"
   ]
  }
 ],
 "metadata": {
  "kernelspec": {
   "display_name": "base",
   "language": "python",
   "name": "python3"
  },
  "language_info": {
   "codemirror_mode": {
    "name": "ipython",
    "version": 3
   },
   "file_extension": ".py",
   "mimetype": "text/x-python",
   "name": "python",
   "nbconvert_exporter": "python",
   "pygments_lexer": "ipython3",
   "version": "3.10.6"
  }
 },
 "nbformat": 4,
 "nbformat_minor": 2
}
